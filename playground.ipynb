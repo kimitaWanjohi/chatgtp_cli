{
 "cells": [
  {
   "cell_type": "code",
   "execution_count": 8,
   "metadata": {},
   "outputs": [],
   "source": [
    "import openai\n",
    "\n",
    "key = open(\"key.txt\", \"r\").read().strip('\\n')\n",
    "openai.api_key = key"
   ]
  },
  {
   "cell_type": "code",
   "execution_count": 11,
   "metadata": {},
   "outputs": [
    {
     "name": "stdout",
     "output_type": "stream",
     "text": [
      "{\n",
      "  \"choices\": [\n",
      "    {\n",
      "      \"finish_reason\": \"stop\",\n",
      "      \"index\": 0,\n",
      "      \"message\": {\n",
      "        \"content\": \"As an AI language model, I cannot have personal beliefs or opinions, including the meaning of life. The meaning of life is a question that has puzzled humanity for centuries and is deeply subjective and dependent on individual perspectives and beliefs. Different people and cultures have different answers to this question based on their values, beliefs, and experiences. Some may find meaning in religion, relationships, personal growth, serving others, achieving success, or experiencing joy and pleasure. Ultimately, the meaning of life is a personal and evolving quest for each individual to discover and pursue.\",\n",
      "        \"role\": \"assistant\"\n",
      "      }\n",
      "    }\n",
      "  ],\n",
      "  \"created\": 1681474216,\n",
      "  \"id\": \"chatcmpl-75CXoTYdT9mLb8bpIqw2oRrkcUW70\",\n",
      "  \"model\": \"gpt-3.5-turbo-0301\",\n",
      "  \"object\": \"chat.completion\",\n",
      "  \"usage\": {\n",
      "    \"completion_tokens\": 109,\n",
      "    \"prompt_tokens\": 15,\n",
      "    \"total_tokens\": 124\n",
      "  }\n",
      "}\n"
     ]
    }
   ],
   "source": [
    "completion = openai.ChatCompletion.create(\n",
    "    model=\"gpt-3.5-turbo\",\n",
    "    messages=[{\n",
    "        \"role\": \"user\",\n",
    "        \"content\": \"what is the meaning of life?\"\n",
    "    }]\n",
    ")\n",
    "print(completion)"
   ]
  },
  {
   "cell_type": "code",
   "execution_count": 12,
   "metadata": {},
   "outputs": [
    {
     "name": "stdout",
     "output_type": "stream",
     "text": [
      "As an AI language model, I cannot have personal beliefs or opinions, including the meaning of life. The meaning of life is a question that has puzzled humanity for centuries and is deeply subjective and dependent on individual perspectives and beliefs. Different people and cultures have different answers to this question based on their values, beliefs, and experiences. Some may find meaning in religion, relationships, personal growth, serving others, achieving success, or experiencing joy and pleasure. Ultimately, the meaning of life is a personal and evolving quest for each individual to discover and pursue.\n"
     ]
    }
   ],
   "source": [
    "reply_content = completion[\"choices\"][0].message.content\n",
    "print(reply_content)"
   ]
  },
  {
   "cell_type": "code",
   "execution_count": 13,
   "metadata": {},
   "outputs": [],
   "source": [
    "message_history = []\n",
    "user_input = input(\"You: \")\n",
    "message_history.append({\n",
    "    \"role\": \"user\",\n",
    "    \"content\": user_input\n",
    "})"
   ]
  },
  {
   "cell_type": "code",
   "execution_count": 15,
   "metadata": {},
   "outputs": [
    {
     "name": "stdout",
     "output_type": "stream",
     "text": [
      "Hello, how can I assist you today?\n"
     ]
    }
   ],
   "source": [
    "completion = openai.ChatCompletion.create(\n",
    "    model=\"gpt-3.5-turbo\",\n",
    "    messages=message_history\n",
    ")\n",
    "reply_content = completion[\"choices\"][0].message.content\n",
    "print(reply_content)\n",
    "message_history.append({\n",
    "    \"role\": \"bot\",\n",
    "    \"content\": reply_content\n",
    "})"
   ]
  }
 ],
 "metadata": {
  "kernelspec": {
   "display_name": "env",
   "language": "python",
   "name": "python3"
  },
  "language_info": {
   "codemirror_mode": {
    "name": "ipython",
    "version": 3
   },
   "file_extension": ".py",
   "mimetype": "text/x-python",
   "name": "python",
   "nbconvert_exporter": "python",
   "pygments_lexer": "ipython3",
   "version": "3.10.6"
  },
  "orig_nbformat": 4
 },
 "nbformat": 4,
 "nbformat_minor": 2
}
